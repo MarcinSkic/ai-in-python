{
 "cells": [
  {
   "attachments": {},
   "cell_type": "markdown",
   "metadata": {},
   "source": [
    "# Lab4"
   ]
  },
  {
   "attachments": {},
   "cell_type": "markdown",
   "metadata": {},
   "source": [
    "## Homework"
   ]
  },
  {
   "cell_type": "code",
   "execution_count": null,
   "metadata": {},
   "outputs": [],
   "source": [
    "#%% Imports\n",
    "import matplotlib.pyplot as plt\n",
    "import pandas as pd\n",
    "import numpy as np\n",
    "from sklearn.decomposition import FastICA, PCA\n",
    "from sklearn.model_selection import train_test_split\n",
    "from sklearn.preprocessing import StandardScaler, MinMaxScaler, RobustScaler\n",
    "from sklearn.neighbors import KNeighborsClassifier as kNN\n",
    "from sklearn.svm import SVC\n",
    "from sklearn.tree import DecisionTreeClassifier as DT\n",
    "from sklearn.ensemble import RandomForestClassifier as RandomForest\n",
    "from sklearn.metrics import confusion_matrix, accuracy_score\n",
    "\n",
    "from sklearn.pipeline import Pipeline\n",
    "\n",
    "#%% Read, manipulate and split data\n",
    "data_frame = pd.read_csv('ionosphere_data.csv', header=None)\n",
    "data_frame.columns = [\"C\" + str(i) for i in range(36)]\n",
    "data_frame.drop(\"C0\",axis=1,inplace=True)\n",
    "\n",
    "X_train, X_test, y_train, y_test = train_test_split(data_frame.iloc[:,:-1], data_frame.iloc[:,-1], test_size=0.2,shuffle=True)\n",
    "#%% PCA calculations\n",
    "pca_transform=PCA()\n",
    "pca_transform.fit(X_train)\n",
    "variances = pca_transform.explained_variance_ratio_\n",
    "cumulated_variances = variances.cumsum()    #Based on visual inspection of variable, to clarify 95% or more variance PCA needs 23 elements...\n",
    "plt.scatter(np.arange(variances.shape[0]),cumulated_variances)\n",
    "plt.show()  \n",
    "\n",
    "PCA_num = (cumulated_variances<0.95).sum()+1 #... and it matches calculated result. \n",
    "\n",
    "#Let's compare to PCA calculations\n",
    "pca95 = PCA(n_components=0.95)\n",
    "pca95.fit(X_train)\n",
    "PCA_internal_number = pca95.n_components_ #Also matches result!\n",
    "# %% Train and test models \"in bulk\"\n",
    "transformers = [(\"PCA\",PCA(PCA_num)), (\"FastICA\",FastICA(PCA_num,random_state=2022))]    #I used tuple here to automate making all combinations with nice console output\n",
    "scalers = [(\"None\",None), (\"Standard\",StandardScaler()), (\"MinMax\",MinMaxScaler()),(\"Robust\",RobustScaler())] #First element: name, second: object\n",
    "classifiers = [(\"kNN\",kNN(weights='distance')), (\"SVC\",SVC()),(\"DT\",DT(max_depth=5)), (\"Random Forest\",RandomForest(max_depth=5))]\n",
    "\n",
    "best_accuracy_score = 0\n",
    "best_combination = \"\"\n",
    "for transformer in transformers:    #Test for every suggested combination\n",
    "    for scaler in scalers:               \n",
    "        for classifier in classifiers:\n",
    "            pipe = None\n",
    "            tr_name, tr = transformer\n",
    "            sc_name, sc = scaler\n",
    "            cl_name, cl = classifier\n",
    "            \n",
    "            if(scaler == None):\n",
    "                pipe = Pipeline([\n",
    "                    ['transformer',tr],\n",
    "                    ['classifier',cl]\n",
    "                    ])\n",
    "            else:\n",
    "                pipe = Pipeline([\n",
    "                    ['transformer',tr],\n",
    "                    ['scaler',sc],\n",
    "                    ['classifier',cl]\n",
    "                    ])\n",
    "            pipe.fit(X_train,y_train)\n",
    "            y_pred = pipe.predict(X_test)\n",
    "            currentScore = accuracy_score(y_test,y_pred)\n",
    "            if(currentScore > best_accuracy_score):\n",
    "                best_accuracy_score = currentScore\n",
    "                best_combination = \"Transformer: {} | Scaler: {} | Classifier: {}\".format(tr_name,sc_name,cl_name)\n",
    "                \n",
    "            print(\"Transformer: {} | Scaler: {} | Classifier: {}\".format(tr_name,sc_name,cl_name));\n",
    "            print(confusion_matrix(y_test, y_pred))\n",
    "            print(accuracy_score(y_test,y_pred))\n",
    "            print('\\n')\n",
    "print(\"Najlepsza kombinacja [{}] z dokładnoscią: {}\".format(best_combination,best_accuracy_score))"
   ]
  }
 ],
 "metadata": {
  "language_info": {
   "name": "python"
  },
  "orig_nbformat": 4
 },
 "nbformat": 4,
 "nbformat_minor": 2
}
