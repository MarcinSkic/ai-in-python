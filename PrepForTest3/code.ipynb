{
  "nbformat": 4,
  "nbformat_minor": 0,
  "metadata": {
    "colab": {
      "provenance": []
    },
    "kernelspec": {
      "name": "python3",
      "display_name": "Python 3"
    },
    "language_info": {
      "name": "python"
    },
    "accelerator": "GPU",
    "gpuClass": "standard"
  },
  "cells": [
    {
      "cell_type": "code",
      "source": [
        "#%%IMPORTS\n",
        "from keras.datasets import mnist\n",
        "from keras.models import Sequential, Model\n",
        "from keras.layers import Dense, Conv2D, AveragePooling2D, Flatten,Input, Lambda, ReLU\n",
        "from keras.optimizers import Adam\n",
        "from keras.utils.vis_utils import plot_model\n",
        "import numpy as np\n",
        "import tensorflow as tf\n",
        "import pandas as pd\n"
      ],
      "metadata": {
        "id": "H7cc0VyjihzR"
      },
      "execution_count": 6,
      "outputs": []
    },
    {
      "cell_type": "code",
      "execution_count": 2,
      "metadata": {
        "colab": {
          "base_uri": "https://localhost:8080/"
        },
        "id": "9Fbh27ZBKc8l",
        "outputId": "fb73dc05-0023-458f-9682-46860540ec8c"
      },
      "outputs": [
        {
          "output_type": "stream",
          "name": "stdout",
          "text": [
            "Downloading data from https://storage.googleapis.com/tensorflow/tf-keras-datasets/mnist.npz\n",
            "11490434/11490434 [==============================] - 0s 0us/step\n",
            "Epoch 1/10\n",
            "1875/1875 [==============================] - 20s 7ms/step - loss: 6.9975 - accuracy: 0.8647 - val_loss: 0.4018 - val_accuracy: 0.9255\n",
            "Epoch 2/10\n",
            "1875/1875 [==============================] - 11s 6ms/step - loss: 0.2313 - accuracy: 0.9458 - val_loss: 0.1707 - val_accuracy: 0.9563\n",
            "Epoch 3/10\n",
            "1875/1875 [==============================] - 11s 6ms/step - loss: 0.1320 - accuracy: 0.9628 - val_loss: 0.1700 - val_accuracy: 0.9547\n",
            "Epoch 4/10\n",
            "1875/1875 [==============================] - 17s 9ms/step - loss: 0.0970 - accuracy: 0.9715 - val_loss: 0.0973 - val_accuracy: 0.9716\n",
            "Epoch 5/10\n",
            "1875/1875 [==============================] - 13s 7ms/step - loss: 0.0807 - accuracy: 0.9761 - val_loss: 0.0861 - val_accuracy: 0.9740\n",
            "Epoch 6/10\n",
            "1875/1875 [==============================] - 14s 8ms/step - loss: 0.0719 - accuracy: 0.9777 - val_loss: 0.0663 - val_accuracy: 0.9788\n",
            "Epoch 7/10\n",
            "1875/1875 [==============================] - 12s 6ms/step - loss: 0.0620 - accuracy: 0.9814 - val_loss: 0.0702 - val_accuracy: 0.9815\n",
            "Epoch 8/10\n",
            "1875/1875 [==============================] - 14s 8ms/step - loss: 0.0570 - accuracy: 0.9830 - val_loss: 0.0470 - val_accuracy: 0.9853\n",
            "Epoch 9/10\n",
            "1875/1875 [==============================] - 22s 12ms/step - loss: 0.0537 - accuracy: 0.9845 - val_loss: 0.1149 - val_accuracy: 0.9667\n",
            "Epoch 10/10\n",
            "1875/1875 [==============================] - 17s 9ms/step - loss: 0.0484 - accuracy: 0.9855 - val_loss: 0.0736 - val_accuracy: 0.9817\n"
          ]
        }
      ],
      "source": [
        "from keras.datasets import mnist\n",
        "from keras.models import Sequential, Model\n",
        "from keras.layers import Dense, Conv2D, AveragePooling2D, Flatten,Input, Lambda, ReLU\n",
        "from keras.optimizers import Adam\n",
        "from keras.utils.vis_utils import plot_model\n",
        "import numpy as np\n",
        "import tensorflow as tf\n",
        "import pandas as pd\n",
        "\n",
        "train, test = mnist.load_data()\n",
        "X_train, y_train = train[0], train[1]\n",
        "X_test, y_test = test[0], test[1]\n",
        "X_train = np.expand_dims(X_train,axis=-1)\n",
        "X_test = np.expand_dims(X_test,axis=-1)\n",
        "\n",
        "class_num = np.unique(y_train).shape[0]\n",
        "\n",
        "y_train = pd.get_dummies(pd.Categorical(y_train)).values\n",
        "y_test = pd.get_dummies(pd.Categorical(y_test)).values\n",
        "\n",
        "def SquaredReLU(tensor):\n",
        "    return tf.math.pow(ReLU()(tensor),2)\n",
        "\n",
        "model = Sequential()\n",
        "model.add(Conv2D(input_shape=(X_train.shape[1:]),filters=6,kernel_size=(5,5),activation=Lambda(SquaredReLU)))\n",
        "model.add(AveragePooling2D())\n",
        "model.add(Conv2D(input_shape=(X_train.shape[1:]),filters=16,kernel_size=(5,5),activation='relu'))\n",
        "model.add(AveragePooling2D())\n",
        "model.add(Flatten())\n",
        "model.add(Dense(120,activation='relu'))\n",
        "model.add(Dense(84,activation='relu'))\n",
        "model.add(Dense(class_num,activation='softmax'))\n",
        "\n",
        "model.compile(loss='categorical_crossentropy',metrics='accuracy',optimizer='adam')\n",
        "plot_model(model,show_shapes=True)\n",
        "\n",
        "model.fit(x = X_train, y=y_train, epochs=10, validation_data=(X_test,y_test))\n",
        "\n",
        "history = model.history.history\n",
        "\n",
        "train_loss = history['loss'][-1]\n",
        "test_loss = history['val_loss'][-1]\n",
        "train_acc = history['accuracy'][-1]\n",
        "test_acc = history['val_accuracy'][-1]"
      ]
    },
    {
      "cell_type": "code",
      "source": [],
      "metadata": {
        "id": "YDVQsVdYikkX"
      },
      "execution_count": null,
      "outputs": []
    }
  ]
}