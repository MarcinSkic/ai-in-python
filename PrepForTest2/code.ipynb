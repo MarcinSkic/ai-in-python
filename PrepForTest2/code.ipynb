{
 "cells": [
  {
   "cell_type": "code",
   "execution_count": 1,
   "metadata": {},
   "outputs": [
    {
     "name": "stdout",
     "output_type": "stream",
     "text": [
      "[[33  2  0  0  0  1  0  0  0  0]\n",
      " [ 0 16  2  3  1  0  0  1 14  0]\n",
      " [ 0  3  5  2  0  0  0  0 25  0]\n",
      " [ 0  2  0 34  0  0  0  1  0  0]\n",
      " [ 0  5  0  0 27  0  1  1  2  0]\n",
      " [ 2  1  0  3  0 29  0  1  0  0]\n",
      " [ 0  3  0  0  0  0 33  0  0  0]\n",
      " [ 0  1  0  2  0  0  0 29  2  2]\n",
      " [ 1  1  0  8  1  0  0  0 23  1]\n",
      " [ 0  1  0 22  0  0  0  1  0 12]]\n",
      "0.6694444444444444\n"
     ]
    }
   ],
   "source": [
    "import pandas as pd\n",
    "import matplotlib.pyplot as plt\n",
    "from sklearn.datasets import load_digits\n",
    "from sklearn.neighbors import KNeighborsClassifier as kNN\n",
    "from sklearn.tree import DecisionTreeClassifier as DT\n",
    "from sklearn.metrics import confusion_matrix, accuracy_score\n",
    "from sklearn.model_selection import train_test_split\n",
    "from sklearn.metrics import confusion_matrix\n",
    "from sklearn.decomposition import PCA\n",
    "\n",
    "X, y = load_digits(return_X_y=True,as_frame=True)\n",
    "\n",
    "X_train, X_test, y_train, y_test = train_test_split(X,y,test_size=0.2,random_state=2022,stratify=y)\n",
    "model_dt = DT(max_depth=5,random_state = 2022)\n",
    "model_dt.fit(X_train,y_train)\n",
    "y_pred = model_dt.predict(X_test)\n",
    "\n",
    "temp = PCA()\n",
    "temp.fit(X_train)\n",
    "variance = temp.explained_variance_ratio_\n",
    "cumulated_variance = variance.cumsum()\n",
    "num = (cumulated_variance<0.99).sum()+1\n",
    "\n",
    "tr = PCA(num)\n",
    "\n",
    "tr.fit(X_train)\n",
    "var1 = tr.n_components_\n",
    "X_train = tr.transform(X_train)\n",
    "X_test = tr.transform(X_test)\n",
    "\n",
    "print(confusion_matrix(y_test, y_pred))\n",
    "print(accuracy_score(y_test, y_pred))"
   ]
  }
 ],
 "metadata": {
  "kernelspec": {
   "display_name": "base",
   "language": "python",
   "name": "python3"
  },
  "language_info": {
   "codemirror_mode": {
    "name": "ipython",
    "version": 3
   },
   "file_extension": ".py",
   "mimetype": "text/x-python",
   "name": "python",
   "nbconvert_exporter": "python",
   "pygments_lexer": "ipython3",
   "version": "3.9.13"
  },
  "orig_nbformat": 4
 },
 "nbformat": 4,
 "nbformat_minor": 2
}
